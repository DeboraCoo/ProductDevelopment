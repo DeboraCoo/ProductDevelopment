{
 "cells": [
  {
   "cell_type": "markdown",
   "id": "81495689",
   "metadata": {},
   "source": [
    "**Hoja de Trabajo # 1 - Programacion Orientada a Objetos**"
   ]
  },
  {
   "cell_type": "code",
   "execution_count": 1,
   "id": "ea50334d",
   "metadata": {},
   "outputs": [],
   "source": [
    "from IPython import display\n",
    "from base64 import b64decode"
   ]
  },
  {
   "cell_type": "code",
   "execution_count": 2,
   "id": "6231fce0",
   "metadata": {},
   "outputs": [
    {
     "data": {
      "image/png": "[encoded data removed]",
      "text/plain": [
       "<IPython.core.display.Image object>"
      ]
     },
     "execution_count": 2,
     "metadata": {},
     "output_type": "execute_result"
    }
   ],
   "source": [
    "base64_data = \"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\"\n",
    "display.Image(b64decode(base64_data))"
   ]
  },
  {
   "cell_type": "code",
   "execution_count": 3,
   "id": "5348e866",
   "metadata": {},
   "outputs": [
    {
     "data": {
      "image/png": "[encoded data removed]",
      "text/plain": [
       "<IPython.core.display.Image object>"
      ]
     },
     "execution_count": 3,
     "metadata": {},
     "output_type": "execute_result"
    }
   ],
   "source": [
    "base64_data = \"iVBORw0KGgoAAAANSUhEUgAAAM0AAAAoCAYAAABdNX5YAAAFOklEQVR4nO2d3XHjNhCAv+TykEddUkFYgjzpQO5AnlQQXwfKXAU3Tge6EqJ0IHeQkR/vTSnh7A6cB3DDFQ4kQBKmSADfDEeaM38gYLG72F3w3tGfPfAj8GXAtYUCZCZDD8AROAObK7elsEyykqF74FB/XwEnYH295hQWSFYytMWYVM0KozGq6ZtTWCDJyNB3AedUwAfgD8ffVhhz+yFmoxbMqce5j7j7NEXmJkNlnAqFQqFQKBQKhUIhEFm0HaxjUdGPCByBV+DZcbzShFV9yPn6Xq+YPk6VKWXI1b+6n+9brtu3XNdnbAETMnSFBzf1zbZ9bpYI8tvl2GGEog8yAc+YQex7/ZK4lgzdczlOB/z9vFPnH+u29RobV4xds8fMxJQHvA2tldo0Vxdnuvs2Fa4tQ6KcXgmrRNgyYiJX9QO7kJmcu7XpE/8H46bkMGHmIEN6nHxtqRhZ5hOSsc150sCl7xzqm+uSktSZiwyd8Y/Tqj5vcHnPFuPb+TjUDUm2jsjDA5frGh8b+lulpTInGdLrlLZgy4mRhaShAysL2VypaAbD1w9i+nNZ/81JhlZcRsVsjgxbl/5PRZj7IAvh5Mu8PZxoBqRNWyZf2WsxRxkSi2a7ggfCLGInD/h/hPiho2ZnIuiwZtvi/kheymWOMrTm28DNnki5MW1WN5gBP9Sfp/o4k19isw2f6Y+iyRbGXGVIewWSXA3m+46/fVXf/62PVf25x5RMV+Tjm/t4wfQJmD7RGnaH6c8/p27UlZmrDH1S39fAXZ+L2/bTbOqb+Qb5UJ/7C0Zo3prYHfyCGcBYbGm01t+Ywdhi9orcRnzOEpirDAk6kfo+xrMfCFusSsJoCrfDLlmJcbjcqLHo+0toOUdrPEcZsp/ZJ03gxZcxFcSPd4UVNxgTvKPJfOcgPHaxX65rvhgyJGw9f+/DmibbH5omuOCHSA2xBWMLfARu1L+tMT/8hmnN8NTowf2duO5fGxviKqQnpmm3xpahPfATZl0UK+IoIfBbzO97rO9d1Z+P7Zd2syHcXEn4Trs5ojlcP7R3pGKBaEszFbqMJ8Yxth5urAzZSJRtDK7yGCnKDKlH6yTUF9UP1dpV4u4uzSfnp4zUN40ahIUzVoZsYkyatvIYrXCCrLXLPVsT/vaN3+pPbdbuMO6XywUTk7/FRJf6Mvfo2YrGzXiKeN+lMVaGYnPEhJldz/hEk9j8yMA3z/RZcLkqRp9p1wpSozUk+6ozuXONnunFZU6Zf5uxMuS631BL40sq+5LS32AnN/ssKKUhn7nU1iHXD7EWT5i8Uszj/YB2dKFzMW+pOedMDBmKxR5/UvmFxutZMWBrwgNhs00shqtat8s/lVmdajBAyjNyKft3EUOGbIZYmj3hcuaqRwtGTFmXOaswndKWtAuZNCkukrWZT/nFGD5iyJBN30kjlcx90BvUelWhy8yUFwlo5C0iz3QLRVeySLRLapZG+qZMmjgyZBMyaSpM5DZkd6bNhsso2qnrWh09WwP/1N9vMZrCtghH/DVCIYnLr/5TFsGBRjB0xFBr2hvyiaTFkqG+SB3ZC5eW64y//3UNmrRJNgqCqRv83Hbxjjibo+StHy4kulT236RJLBmyiZGniYaOnt0SRyN2uV5i8nKNLKVOLBmaNV37aYbyV/3pCt3dYSbM1HVNhUJ01sRdvMqCzH5GTi+UyI3YMqQ58zbbOAYhgQDZihoLSVYdMAvDnzGTJfUK55yJLUM74FeMSy9u/ZmmAvvq/9FSinmTwrRkI0OypinavzCWbGToP3AoCmInPLWWAAAAAElFTkSuQmCC\"\n",
    "display.Image(b64decode(base64_data))"
   ]
  },
  {
   "cell_type": "code",
   "execution_count": 4,
   "id": "58662769",
   "metadata": {},
   "outputs": [
    {
     "data": {
      "image/png": "[encoded data removed]",
      "text/plain": [
       "<IPython.core.display.Image object>"
      ]
     },
     "execution_count": 4,
     "metadata": {},
     "output_type": "execute_result"
    }
   ],
   "source": [
    "base64_data = \"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\"\n",
    "display.Image(b64decode(base64_data))"
   ]
  },
  {
   "cell_type": "code",
   "execution_count": 23,
   "id": "b5d56b2e",
   "metadata": {},
   "outputs": [],
   "source": [
    "import numpy as np\n",
    "\n",
    "class regression():\n",
    "  def __init__(self, x, y):  \n",
    "    print(x)\n",
    "    print(y)\n",
    "    #Calculo de B0 y B1\n",
    "    x_mean = x.mean()\n",
    "    y_mean = y.mean()\n",
    "    \n",
    "    B1_num = ((x - x_mean) * (y - y_mean)).sum()\n",
    "    B1_den = ((x - x_mean)**2).sum()\n",
    "    beta1 = B1_num / B1_den\n",
    "    \n",
    "    beta0 = y_mean - (beta1*x_mean)\n",
    "\n",
    "    #Variables locales\n",
    "    self.beta0 = beta0\n",
    "    self.beta1 = beta1\n",
    "    self.x = x\n",
    "    self.y = y    \n",
    "\n",
    "  def predict(self, val):\n",
    "    y = self.beta0 + self.beta1 * val    \n",
    "    return y\n",
    "\n",
    "\n",
    "  def predictN(self, vals):\n",
    "    result = np.array([])\n",
    "    for val in vals:\n",
    "      predict = self.predict(val)\n",
    "      result = np.append(result, predict)\n",
    "\n",
    "    return result\n",
    "\n",
    "  def r2(self):    \n",
    "    return self.r()**2\n",
    "\n",
    "  def r(self):\n",
    "    x = self.x\n",
    "    y = self.y\n",
    "\n",
    "    n = len(x)\n",
    "    \n",
    "    num = (n * (x*y).sum()) - (x.sum() * y.sum())\n",
    "    den = np.sqrt((n * (x**2).sum() - x.sum()**2) * (n * (y**2).sum() - y.sum()**2))\n",
    "    r = num / den\n",
    "    return r\n",
    "\n",
    "  def getAllParams(self):\n",
    "    params = {'b0':self.beta0, 'b1':self.beta1, 'r2': self.r2(), 'r':self.r()}\n",
    "    return params\n",
    "\n",
    "  @classmethod\n",
    "  def from_file(cls, path):\n",
    "    with open(path, 'r') as f:\n",
    "        read_y = np.array([])\n",
    "        read_x = np.array([])\n",
    "        for line in f:\n",
    "            line = line.strip()\n",
    "            words = line.split(',')\n",
    "            read_y = np.append(read_y, int(words[0]))               \n",
    "            read_x = np.append(read_x, int(words[1]))\n",
    "            \n",
    "    return cls(read_x,read_y)\n"
   ]
  },
  {
   "cell_type": "code",
   "execution_count": 6,
   "id": "c7545dcf",
   "metadata": {},
   "outputs": [],
   "source": [
    "x = np.array([1,2,3,4,5]) \n",
    "y = np.array([7,14,15,18,19])"
   ]
  },
  {
   "cell_type": "code",
   "execution_count": 21,
   "id": "bcb6b2b5",
   "metadata": {},
   "outputs": [
    {
     "name": "stdout",
     "output_type": "stream",
     "text": [
      "[1 2 3 4 5]\n",
      "[ 7 14 15 18 19]\n"
     ]
    }
   ],
   "source": [
    "regr = regression(x,y)"
   ]
  },
  {
   "cell_type": "code",
   "execution_count": 8,
   "id": "70dbfc9c",
   "metadata": {},
   "outputs": [
    {
     "data": {
      "text/plain": [
       "0.9375093422553951"
      ]
     },
     "execution_count": 8,
     "metadata": {},
     "output_type": "execute_result"
    }
   ],
   "source": [
    "regr.r()"
   ]
  },
  {
   "cell_type": "code",
   "execution_count": 9,
   "id": "7ae047e5",
   "metadata": {},
   "outputs": [
    {
     "data": {
      "text/plain": [
       "0.8789237668161435"
      ]
     },
     "execution_count": 9,
     "metadata": {},
     "output_type": "execute_result"
    }
   ],
   "source": [
    "regr.r2()"
   ]
  },
  {
   "cell_type": "code",
   "execution_count": 10,
   "id": "ba632756",
   "metadata": {},
   "outputs": [
    {
     "data": {
      "text/plain": [
       "{'b0': 6.200000000000001,\n",
       " 'b1': 2.8,\n",
       " 'r2': 0.8789237668161435,\n",
       " 'r': 0.9375093422553951}"
      ]
     },
     "execution_count": 10,
     "metadata": {},
     "output_type": "execute_result"
    }
   ],
   "source": [
    "regr.getAllParams()"
   ]
  },
  {
   "cell_type": "code",
   "execution_count": 11,
   "id": "540e2da7",
   "metadata": {},
   "outputs": [
    {
     "data": {
      "text/plain": [
       "20.200000000000003"
      ]
     },
     "execution_count": 11,
     "metadata": {},
     "output_type": "execute_result"
    }
   ],
   "source": [
    "regr.predict(5)"
   ]
  },
  {
   "cell_type": "code",
   "execution_count": 12,
   "id": "53c5a141",
   "metadata": {},
   "outputs": [
    {
     "data": {
      "text/plain": [
       "array([20.2, 23. , 25.8, 28.6, 31.4, 34.2])"
      ]
     },
     "execution_count": 12,
     "metadata": {},
     "output_type": "execute_result"
    }
   ],
   "source": [
    "vals = np.array([5,6,7,8,9,10])\n",
    "regr.predictN(vals)"
   ]
  },
  {
   "cell_type": "code",
   "execution_count": 24,
   "id": "e27b0366",
   "metadata": {},
   "outputs": [
    {
     "name": "stdout",
     "output_type": "stream",
     "text": [
      "[1. 2. 3. 4. 5.]\n",
      "[ 7. 14. 15. 18. 19.]\n"
     ]
    }
   ],
   "source": [
    "regrFile= regression.from_file('HT1.csv')"
   ]
  },
  {
   "cell_type": "code",
   "execution_count": 25,
   "id": "0a79bbc9",
   "metadata": {},
   "outputs": [
    {
     "data": {
      "text/plain": [
       "{'b0': 6.200000000000001,\n",
       " 'b1': 2.8,\n",
       " 'r2': 0.8789237668161435,\n",
       " 'r': 0.9375093422553951}"
      ]
     },
     "execution_count": 25,
     "metadata": {},
     "output_type": "execute_result"
    }
   ],
   "source": [
    "regrFile.getAllParams()"
   ]
  },
  {
   "cell_type": "code",
   "execution_count": 26,
   "id": "fdeeae5d",
   "metadata": {},
   "outputs": [
    {
     "data": {
      "text/plain": [
       "0.9375093422553951"
      ]
     },
     "execution_count": 26,
     "metadata": {},
     "output_type": "execute_result"
    }
   ],
   "source": [
    "regrFile.r()"
   ]
  },
  {
   "cell_type": "code",
   "execution_count": 27,
   "id": "22413a09",
   "metadata": {},
   "outputs": [
    {
     "data": {
      "text/plain": [
       "0.8789237668161435"
      ]
     },
     "execution_count": 27,
     "metadata": {},
     "output_type": "execute_result"
    }
   ],
   "source": [
    "regrFile.r2()"
   ]
  },
  {
   "cell_type": "code",
   "execution_count": 28,
   "id": "9a26b346",
   "metadata": {},
   "outputs": [
    {
     "data": {
      "text/plain": [
       "20.200000000000003"
      ]
     },
     "execution_count": 28,
     "metadata": {},
     "output_type": "execute_result"
    }
   ],
   "source": [
    "regrFile.predict(5)"
   ]
  },
  {
   "cell_type": "code",
   "execution_count": 29,
   "id": "69a04f05",
   "metadata": {},
   "outputs": [
    {
     "data": {
      "text/plain": [
       "array([20.2, 23. , 25.8, 28.6, 31.4, 34.2])"
      ]
     },
     "execution_count": 29,
     "metadata": {},
     "output_type": "execute_result"
    }
   ],
   "source": [
    "vals = np.array([5,6,7,8,9,10])\n",
    "regrFile.predictN(vals)"
   ]
  },
  {
   "cell_type": "code",
   "execution_count": null,
   "id": "fb13b670",
   "metadata": {},
   "outputs": [],
   "source": []
  }
 ],
 "metadata": {
  "kernelspec": {
   "display_name": "Python 3",
   "language": "python",
   "name": "python3"
  },
  "language_info": {
   "codemirror_mode": {
    "name": "ipython",
    "version": 3
   },
   "file_extension": ".py",
   "mimetype": "text/x-python",
   "name": "python",
   "nbconvert_exporter": "python",
   "pygments_lexer": "ipython3",
   "version": "3.8.8"
  }
 },
 "nbformat": 4,
 "nbformat_minor": 5
}
